{
 "cells": [
  {
   "cell_type": "code",
   "execution_count": 0,
   "metadata": {
    "application/vnd.databricks.v1+cell": {
     "cellMetadata": {
      "byteLimit": 2048000,
      "rowLimit": 10000
     },
     "inputWidgets": {},
     "nuid": "e8c9e3ac-01a6-412c-9ac9-f8d3ddfb1322",
     "showTitle": false,
     "tableResultSettingsMap": {},
     "title": ""
    }
   },
   "outputs": [],
   "source": [
    "import requests\n",
    "import pandas as pd\n",
    "\n",
    "API_KEY = \"0edfc0525246965667057e6f44062902\"\n",
    "\n",
    "# Utility function\n",
    "def get_series(series_id, label):\n",
    "    url = \"https://api.stlouisfed.org/fred/series/observations\"\n",
    "    params = {\n",
    "        \"series_id\": series_id,\n",
    "        \"api_key\": API_KEY,\n",
    "        \"file_type\": \"json\"\n",
    "    }\n",
    "    response = requests.get(url, params=params)\n",
    "    data = response.json()\n",
    "    df = pd.DataFrame(data['observations'])[['date', 'value']]\n",
    "    df['date'] = pd.to_datetime(df['date'])\n",
    "    df[label] = pd.to_numeric(df['value'], errors='coerce')\n",
    "    return df[['date', label]]\n",
    "\n",
    "# === DAILY DATA ===\n",
    "daily_indicators = {\n",
    "    \"FederalFundsRate\": \"FEDFUNDS\",\n",
    "    \"OilPriceWTI\": \"DCOILWTICO\",\n",
    "    \"10YrTreasury\": \"GS10\"\n",
    "}\n",
    "df_daily = None\n",
    "for label, series_id in daily_indicators.items():\n",
    "    df = get_series(series_id, label)\n",
    "    df_daily = df if df_daily is None else df_daily.merge(df, on=\"date\", how=\"inner\")\n",
    "\n",
    "# === MONTHLY DATA ===\n",
    "monthly_indicators = {\n",
    "    \"UnemploymentRate\": \"UNRATE\",\n",
    "    \"CPI\": \"CPIAUCSL\",\n",
    "    \"RetailSales\": \"RSAFS\",\n",
    "    \"PersonalIncome\": \"PI\",\n",
    "    \"HomePriceIndex\": \"CSUSHPINSA\"\n",
    "}\n",
    "df_monthly = None\n",
    "for label, series_id in monthly_indicators.items():\n",
    "    df = get_series(series_id, label)\n",
    "    df_monthly = df if df_monthly is None else df_monthly.merge(df, on=\"date\", how=\"outer\")\n",
    "\n",
    "# === QUARTERLY DATA ===\n",
    "df_quarterly = get_series(\"GDP\", \"GDP\")\n",
    "\n",
    "# === Optional Cleanups ===\n",
    "df_daily.sort_values(\"date\", inplace=True)\n",
    "df_monthly.sort_values(\"date\", inplace=True)\n",
    "df_quarterly.sort_values(\"date\", inplace=True)\n",
    "\n",
    "# === Show shape and previews ===\n",
    "print(\"Daily:\", df_daily.shape)\n",
    "display(df_daily.tail())\n",
    "\n",
    "print(\"Monthly:\", df_monthly.shape)\n",
    "display(df_monthly.tail())\n",
    "\n",
    "print(\"Quarterly:\", df_quarterly.shape)\n",
    "display(df_quarterly.tail())"
   ]
  },
  {
   "cell_type": "code",
   "execution_count": 0,
   "metadata": {
    "application/vnd.databricks.v1+cell": {
     "cellMetadata": {
      "byteLimit": 2048000,
      "rowLimit": 10000
     },
     "inputWidgets": {},
     "nuid": "341e4387-a3ac-4ca5-8d4a-c50495bac340",
     "showTitle": false,
     "tableResultSettingsMap": {},
     "title": ""
    }
   },
   "outputs": [],
   "source": [
    "display(df_daily)\n",
    "display(df_monthly)\n",
    "display(df_quarterly)"
   ]
  },
  {
   "cell_type": "code",
   "execution_count": 0,
   "metadata": {
    "application/vnd.databricks.v1+cell": {
     "cellMetadata": {
      "byteLimit": 2048000,
      "rowLimit": 10000
     },
     "inputWidgets": {},
     "nuid": "ea987657-f9eb-4ffa-bd04-67f3ec2e44cc",
     "showTitle": false,
     "tableResultSettingsMap": {},
     "title": ""
    }
   },
   "outputs": [],
   "source": [
    "def clean_fred_df(df: pd.DataFrame, value_columns: list) -> pd.DataFrame:\n",
    "    \"\"\"\n",
    "    Minimal cleaning:\n",
    "    - Ensure 'date' is datetime\n",
    "    - Convert value columns to numeric\n",
    "    - Drop rows where all values are NaN\n",
    "    - Sort by date\n",
    "    \"\"\"\n",
    "    df = df.copy()\n",
    "    df['date'] = pd.to_datetime(df['date'], errors='coerce')\n",
    "    \n",
    "    for col in value_columns:\n",
    "        df[col] = pd.to_numeric(df[col], errors='coerce')\n",
    "    \n",
    "    df = df.dropna(subset=value_columns, how='all')\n",
    "    df = df.sort_values(\"date\").reset_index(drop=True)\n",
    "    \n",
    "    return df"
   ]
  },
  {
   "cell_type": "code",
   "execution_count": 0,
   "metadata": {
    "application/vnd.databricks.v1+cell": {
     "cellMetadata": {
      "byteLimit": 2048000,
      "rowLimit": 10000
     },
     "inputWidgets": {},
     "nuid": "ae061817-03c7-4de4-bcdc-3ae6b702fd06",
     "showTitle": false,
     "tableResultSettingsMap": {},
     "title": ""
    }
   },
   "outputs": [],
   "source": [
    "# Define column lists\n",
    "daily_cols = ['FederalFundsRate', 'OilPriceWTI', '10YrTreasury']\n",
    "monthly_cols = ['UnemploymentRate', 'CPI', 'RetailSales', 'PersonalIncome', 'HomePriceIndex']\n",
    "quarterly_cols = ['GDP']\n",
    "\n",
    "# Clean each DataFrame\n",
    "df_daily = clean_fred_df(df_daily, daily_cols)\n",
    "df_monthly = clean_fred_df(df_monthly, monthly_cols)\n",
    "df_quarterly = clean_fred_df(df_quarterly, quarterly_cols)"
   ]
  },
  {
   "cell_type": "code",
   "execution_count": 0,
   "metadata": {
    "application/vnd.databricks.v1+cell": {
     "cellMetadata": {
      "byteLimit": 2048000,
      "rowLimit": 10000
     },
     "inputWidgets": {},
     "nuid": "c5ffe303-2df5-4f6a-a8f4-867993461770",
     "showTitle": false,
     "tableResultSettingsMap": {},
     "title": ""
    }
   },
   "outputs": [],
   "source": [
    "spark_df_daily = spark.createDataFrame(df_daily)\n",
    "spark_df_monthly = spark.createDataFrame(df_monthly)\n",
    "spark_df_quarterly = spark.createDataFrame(df_quarterly)\n",
    "\n",
    "# Now write to Delta\n",
    "spark_df_daily.write.format(\"delta\").mode(\"overwrite\").save(\"/mnt/datalake/fred/daily\")\n",
    "spark_df_monthly.write.format(\"delta\").mode(\"overwrite\").save(\"/mnt/datalake/fred/monthly\")\n",
    "spark_df_quarterly.write.format(\"delta\").mode(\"overwrite\").save(\"/mnt/datalake/fred/quarterly\")"
   ]
  }
 ],
 "metadata": {
  "application/vnd.databricks.v1+notebook": {
   "computePreferences": null,
   "dashboards": [],
   "environmentMetadata": {
    "base_environment": "",
    "environment_version": "2"
   },
   "inputWidgetPreferences": null,
   "language": "python",
   "notebookMetadata": {
    "pythonIndentUnit": 4
   },
   "notebookName": "01_ingest_stage_FRED",
   "widgets": {}
  },
  "language_info": {
   "name": "python"
  }
 },
 "nbformat": 4,
 "nbformat_minor": 0
}
