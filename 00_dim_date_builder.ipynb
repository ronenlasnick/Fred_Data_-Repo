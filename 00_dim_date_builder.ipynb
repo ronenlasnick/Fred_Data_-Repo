{
 "cells": [
  {
   "cell_type": "code",
   "execution_count": 0,
   "metadata": {
    "application/vnd.databricks.v1+cell": {
     "cellMetadata": {
      "byteLimit": 2048000,
      "rowLimit": 10000
     },
     "inputWidgets": {},
     "nuid": "c9097bd7-3198-4de5-a541-e936807b28f3",
     "showTitle": false,
     "tableResultSettingsMap": {},
     "title": ""
    }
   },
   "outputs": [],
   "source": [
    "# Build dim_date from daily, monthly, and quarterly datasets\n",
    "\n",
    "import pandas as pd\n",
    "from pyspark.sql.functions import (\n",
    "    col, year, month, dayofmonth, dayofweek, weekofyear,\n",
    "    quarter, dayofyear, date_format, lit\n",
    ")\n",
    "\n",
    "# === Load from mounted Delta tables ===\n",
    "df_daily = spark.read.format(\"delta\").load(\"/mnt/fred/daily\").select(\"date\")\n",
    "df_monthly = spark.read.format(\"delta\").load(\"/mnt/fred/monthly\").select(\"date\")\n",
    "df_quarterly = spark.read.format(\"delta\").load(\"/mnt/fred/quarterly\").select(\"date\")\n",
    "\n",
    "# === Union and deduplicate ===\n",
    "dim_date = df_daily.union(df_monthly).union(df_quarterly).distinct()\n",
    "\n",
    "# === Add calendar attributes ===\n",
    "dim_date = dim_date \\\n",
    "    .withColumn(\"year\", year(\"date\")) \\\n",
    "    .withColumn(\"quarter\", quarter(\"date\")) \\\n",
    "    .withColumn(\"month\", month(\"date\")) \\\n",
    "    .withColumn(\"day\", dayofmonth(\"date\")) \\\n",
    "    .withColumn(\"day_of_week\", dayofweek(\"date\")) \\\n",
    "    .withColumn(\"week_of_year\", weekofyear(\"date\")) \\\n",
    "    .withColumn(\"day_of_year\", dayofyear(\"date\")) \\\n",
    "    .withColumn(\"is_weekend\", (dayofweek(\"date\").isin([1, 7])).cast(\"boolean\")) \\\n",
    "    .withColumn(\"month_name\", date_format(\"date\", \"MMMM\")) \\\n",
    "    .withColumn(\"day_name\", date_format(\"date\", \"EEEE\")) \\\n",
    "    .withColumn(\"is_start_of_month\", (dayofmonth(\"date\") == 1).cast(\"boolean\"))\n",
    "\n",
    "# === Save dim_date to mounted storage in Delta format ===\n",
    "spark.conf.set(\"spark.databricks.delta.schema.autoMerge.enabled\", \"true\")\n",
    "dim_date.write \\\n",
    "    .format(\"delta\") \\\n",
    "    .mode(\"overwrite\") \\\n",
    "    .option(\"mergeSchema\", \"true\") \\\n",
    "    .save(\"/mnt/fred/dim_date\")  "
   ]
  }
 ],
 "metadata": {
  "application/vnd.databricks.v1+notebook": {
   "computePreferences": null,
   "dashboards": [],
   "environmentMetadata": {
    "base_environment": "",
    "environment_version": "2"
   },
   "inputWidgetPreferences": null,
   "language": "python",
   "notebookMetadata": {
    "pythonIndentUnit": 4
   },
   "notebookName": "00_dim_date_builder",
   "widgets": {}
  },
  "language_info": {
   "name": "python"
  }
 },
 "nbformat": 4,
 "nbformat_minor": 0
}
